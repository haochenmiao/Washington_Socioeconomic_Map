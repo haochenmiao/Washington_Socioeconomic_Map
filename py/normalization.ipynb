{
 "cells": [
  {
   "cell_type": "code",
   "execution_count": 5,
   "metadata": {},
   "outputs": [],
   "source": [
    "import pandas as pd\n",
    "import json\n",
    "import numpy as np"
   ]
  },
  {
   "cell_type": "code",
   "execution_count": 2,
   "metadata": {},
   "outputs": [
    {
     "name": "stdout",
     "output_type": "stream",
     "text": [
      "Index(['type', 'id', 'geometry_type', 'geometry_coordinates',\n",
      "       'properties_OBJECTID', 'properties_Census_Tract', 'properties_IBL_Rank',\n",
      "       'properties_EHD_Rank', 'properties_Env_SEF_Rank',\n",
      "       'properties_Total_Population', 'properties_People_of_Color',\n",
      "       'properties_Percent_People_of_Color'],\n",
      "      dtype='object')\n"
     ]
    }
   ],
   "source": [
    "with open('./assets/People_of_Color_Washington.json') as file:\n",
    "    data = json.load(file)\n",
    "\n",
    "# Extract the list of features\n",
    "features = data['features']\n",
    "\n",
    "# Use json_normalize to flatten the nested 'properties' into a DataFrame\n",
    "df = pd.json_normalize(features, sep='_', max_level=1)\n",
    "\n",
    "# Print the columns of the DataFrame to see the structure\n",
    "print(df.columns)"
   ]
  },
  {
   "cell_type": "code",
   "execution_count": 3,
   "metadata": {},
   "outputs": [
    {
     "name": "stdout",
     "output_type": "stream",
     "text": [
      "      type  id geometry_type  \\\n",
      "0  Feature   1       Polygon   \n",
      "1  Feature   2       Polygon   \n",
      "2  Feature   3       Polygon   \n",
      "3  Feature   4       Polygon   \n",
      "4  Feature   5       Polygon   \n",
      "\n",
      "                                geometry_coordinates  properties_OBJECTID  \\\n",
      "0  [[[-122.407697325044, 47.2258904770488], [-122...                    1   \n",
      "1  [[[-122.420943214232, 47.1786642375196], [-122...                    2   \n",
      "2  [[[-122.282534781502, 47.1178639615889], [-122...                    3   \n",
      "3  [[[-122.407697325044, 47.2258904770488], [-122...                    4   \n",
      "4  [[[-122.407676307464, 47.2191904455033], [-122...                    5   \n",
      "\n",
      "  properties_Census_Tract  properties_IBL_Rank  properties_EHD_Rank  \\\n",
      "0             53053062000                  9.0                 10.0   \n",
      "1             53053071601                 10.0                 10.0   \n",
      "2             53053073111                  5.0                  7.0   \n",
      "3             53053940007                 10.0                 10.0   \n",
      "4             53053940006                 10.0                 10.0   \n",
      "\n",
      "   properties_Env_SEF_Rank  properties_Total_Population  \\\n",
      "0                     10.0                       4342.0   \n",
      "1                     10.0                       5295.0   \n",
      "2                      4.0                       4909.0   \n",
      "3                     10.0                       3215.0   \n",
      "4                     10.0                       3459.0   \n",
      "\n",
      "   properties_People_of_Color  properties_Percent_People_of_Color  \\\n",
      "0                      2264.0                               52.14   \n",
      "1                      3148.0                               59.45   \n",
      "2                      1238.0                               25.22   \n",
      "3                      2202.0                               68.49   \n",
      "4                      2676.0                               77.36   \n",
      "\n",
      "   Normalized_Percent_People_of_Color  \n",
      "0                           51.259210  \n",
      "1                           59.298361  \n",
      "2                           21.654020  \n",
      "3                           69.240075  \n",
      "4                           78.994831  \n"
     ]
    }
   ],
   "source": [
    "# Convert the \"Percent_People_of_Color\" to numeric since it's stored as a string\n",
    "df['properties_Percent_People_of_Color'] = pd.to_numeric(df['properties_Percent_People_of_Color'], errors='coerce')\n",
    "\n",
    "# Normalize the \"Percent_People_of_Color\" column using Min-Max normalization\n",
    "df['Normalized_Percent_People_of_Color'] = (df['properties_Percent_People_of_Color'] - df['properties_Percent_People_of_Color'].min()) / (df['properties_Percent_People_of_Color'].max() - df['properties_Percent_People_of_Color'].min())\n",
    "df['Normalized_Percent_People_of_Color'] = df['Normalized_Percent_People_of_Color'] * 100\n",
    "\n",
    "# Display the first few rows of the DataFrame to verify\n",
    "print(df.head())"
   ]
  },
  {
   "cell_type": "code",
   "execution_count": 4,
   "metadata": {},
   "outputs": [
    {
     "name": "stdout",
     "output_type": "stream",
     "text": [
      "JSON file has been saved as 'Normalized_People_of_Color_Washington.json'\n"
     ]
    }
   ],
   "source": [
    "df.to_json('./assets/Normalized_People_of_Color_Washington.json', orient='records', indent=4)\n",
    "\n",
    "# Confirm that the file has been saved successfully\n",
    "print(\"JSON file has been saved as 'Normalized_People_of_Color_Washington.json'\")"
   ]
  },
  {
   "cell_type": "code",
   "execution_count": 2,
   "metadata": {},
   "outputs": [
    {
     "name": "stdout",
     "output_type": "stream",
     "text": [
      "Index(['type', 'id', 'geometry_type', 'geometry_coordinates',\n",
      "       'properties_OBJECTID', 'properties_Census_Tract', 'properties_IBL_Rank',\n",
      "       'properties_EHD_Rank', 'properties_Env_SEF_Rank', 'properties_Count_',\n",
      "       'properties_Population', 'properties_Percentage', 'properties_Lower_ME',\n",
      "       'properties_Upper_ME', 'properties_Per'],\n",
      "      dtype='object')\n"
     ]
    }
   ],
   "source": [
    "with open('./assets/Unaffordable_Housing_v2.json') as file:\n",
    "    data = json.load(file)\n",
    "\n",
    "# Extract the list of features\n",
    "features = data['features']\n",
    "\n",
    "# Use json_normalize to flatten the nested 'properties' into a DataFrame\n",
    "df = pd.json_normalize(features, sep='_', max_level=1)\n",
    "\n",
    "# Print the columns of the DataFrame to see the structure\n",
    "print(df.columns)"
   ]
  },
  {
   "cell_type": "code",
   "execution_count": 3,
   "metadata": {},
   "outputs": [
    {
     "name": "stdout",
     "output_type": "stream",
     "text": [
      "      type  id geometry_type  \\\n",
      "0  Feature   1       Polygon   \n",
      "1  Feature   2       Polygon   \n",
      "2  Feature   3       Polygon   \n",
      "3  Feature   4       Polygon   \n",
      "4  Feature   5       Polygon   \n",
      "\n",
      "                                geometry_coordinates  properties_OBJECTID  \\\n",
      "0  [[[-122.407711857337, 47.2258962633226], [-122...                    1   \n",
      "1  [[[-122.420957738327, 47.1786700198163], [-122...                    2   \n",
      "2  [[[-122.282549269399, 47.1178697545886], [-122...                    3   \n",
      "3  [[[-122.407711857337, 47.2258962633226], [-122...                    4   \n",
      "4  [[[-122.407690838279, 47.2191962314073], [-122...                    5   \n",
      "\n",
      "  properties_Census_Tract  properties_IBL_Rank  properties_EHD_Rank  \\\n",
      "0             53053062000                 10.0                 10.0   \n",
      "1             53053071601                  8.0                 10.0   \n",
      "2             53053073111                  3.0                  7.0   \n",
      "3             53053940007                  8.0                 10.0   \n",
      "4             53053940006                  9.0                 10.0   \n",
      "\n",
      "   properties_Env_SEF_Rank  properties_Count_  properties_Population  \\\n",
      "0                     10.0              750.0                 1696.0   \n",
      "1                     10.0              661.0                 1844.0   \n",
      "2                      4.0              355.0                 1507.0   \n",
      "3                     10.0              383.0                 1034.0   \n",
      "4                     10.0              461.0                 1090.0   \n",
      "\n",
      "  properties_Percentage  properties_Lower_ME  properties_Upper_ME  \\\n",
      "0                 44.22                44.12                44.32   \n",
      "1                 35.85                35.76                35.93   \n",
      "2                 23.56                23.49                23.62   \n",
      "3                 37.04                36.96                37.12   \n",
      "4                 42.29                42.21                42.37   \n",
      "\n",
      "   properties_Per  Normalized_Percent  \n",
      "0        0.442217           64.260418  \n",
      "1        0.358460           52.089321  \n",
      "2        0.235567           34.231278  \n",
      "3        0.370406           53.825288  \n",
      "4        0.422936           61.458586  \n"
     ]
    }
   ],
   "source": [
    "# Convert the \"Percent_People_of_Color\" to numeric since it's stored as a string\n",
    "df['properties_Per'] = pd.to_numeric(df['properties_Per'], errors='coerce')\n",
    "\n",
    "# Normalize the \"Percent_People_of_Color\" column using Min-Max normalization\n",
    "df['Normalized_Percent'] = (df['properties_Per'] - df['properties_Per'].min()) / (df['properties_Per'].max() - df['properties_Per'].min())\n",
    "df['Normalized_Percent'] = df['Normalized_Percent'] * 100\n",
    "\n",
    "# Display the first few rows of the DataFrame to verify\n",
    "print(df.head())"
   ]
  },
  {
   "cell_type": "code",
   "execution_count": 4,
   "metadata": {},
   "outputs": [
    {
     "name": "stdout",
     "output_type": "stream",
     "text": [
      "JSON file has been saved as 'Normalized_Unaffordable_Housing.json'\n"
     ]
    }
   ],
   "source": [
    "df.to_json('./assets/Normalized_Unaffordable_Housing.json', orient='records', indent=4)\n",
    "\n",
    "# Confirm that the file has been saved successfully\n",
    "print(\"JSON file has been saved as 'Normalized_Unaffordable_Housing.json'\")"
   ]
  },
  {
   "cell_type": "code",
   "execution_count": 6,
   "metadata": {},
   "outputs": [
    {
     "name": "stdout",
     "output_type": "stream",
     "text": [
      "Index(['type', 'id', 'geometry_type', 'geometry_coordinates',\n",
      "       'properties_OBJECTID', 'properties_Census_Tract', 'properties_IBL_Rank',\n",
      "       'properties_EHD_Rank', 'properties_Env_SEF_Rank',\n",
      "       'properties_Num_Unemployed', 'properties_Employable_Population_Over15',\n",
      "       'properties_Percent_Unemployed', 'properties_Lower_ME',\n",
      "       'properties_Upper_ME'],\n",
      "      dtype='object')\n"
     ]
    }
   ],
   "source": [
    "with open('./assets/Unemployed_Population_Washington.json') as file:\n",
    "    data = json.load(file)\n",
    "\n",
    "# Extract the list of features\n",
    "features = data['features']\n",
    "\n",
    "# Use json_normalize to flatten the nested 'properties' into a DataFrame\n",
    "df = pd.json_normalize(features, sep='_', max_level=1)\n",
    "\n",
    "# Print the columns of the DataFrame to see the structure\n",
    "print(df.columns)"
   ]
  },
  {
   "cell_type": "code",
   "execution_count": 7,
   "metadata": {},
   "outputs": [
    {
     "name": "stdout",
     "output_type": "stream",
     "text": [
      "      type  id geometry_type  \\\n",
      "0  Feature   1       Polygon   \n",
      "1  Feature   2       Polygon   \n",
      "2  Feature   3       Polygon   \n",
      "3  Feature   4       Polygon   \n",
      "4  Feature   5       Polygon   \n",
      "\n",
      "                                geometry_coordinates  properties_OBJECTID  \\\n",
      "0  [[[-122.407697325044, 47.2258904770488], [-122...                    1   \n",
      "1  [[[-122.420943214232, 47.1786642375196], [-122...                    2   \n",
      "2  [[[-122.282534781502, 47.1178639615889], [-122...                    3   \n",
      "3  [[[-122.407697325044, 47.2258904770488], [-122...                    4   \n",
      "4  [[[-122.407676307464, 47.2191904455033], [-122...                    5   \n",
      "\n",
      "  properties_Census_Tract  properties_IBL_Rank  properties_EHD_Rank  \\\n",
      "0             53053062000                  7.0                 10.0   \n",
      "1             53053071601                  8.0                 10.0   \n",
      "2             53053073111                  6.0                  7.0   \n",
      "3             53053940007                  9.0                 10.0   \n",
      "4             53053940006                  9.0                 10.0   \n",
      "\n",
      "   properties_Env_SEF_Rank  properties_Num_Unemployed  \\\n",
      "0                     10.0                      126.0   \n",
      "1                     10.0                      164.0   \n",
      "2                      4.0                      109.0   \n",
      "3                     10.0                      122.0   \n",
      "4                     10.0                      101.0   \n",
      "\n",
      "   properties_Employable_Population_Over15  properties_Percent_Unemployed  \\\n",
      "0                                   2265.0                            5.6   \n",
      "1                                   2631.0                            6.2   \n",
      "2                                   2299.0                            4.8   \n",
      "3                                   1529.0                            8.1   \n",
      "4                                   1201.0                            8.5   \n",
      "\n",
      "   properties_Lower_ME  properties_Upper_ME  Normalized_Unemployed_Percent  \n",
      "0                  2.9                  8.3                      16.721311  \n",
      "1                  3.1                  9.3                      18.688525  \n",
      "2                  1.7                  7.9                      14.098361  \n",
      "3                  3.5                 12.7                      24.918033  \n",
      "4                  4.0                 13.0                      26.229508  \n"
     ]
    }
   ],
   "source": [
    "# Convert the \"Percent_People_of_Color\" to numeric since it's stored as a string\n",
    "df['properties_Percent_Unemployed'] = pd.to_numeric(df['properties_Percent_Unemployed'], errors='coerce')\n",
    "\n",
    "# Normalize the \"Percent_People_of_Color\" column using Min-Max normalization\n",
    "df['Normalized_Unemployed_Percent'] = (df['properties_Percent_Unemployed'] - df['properties_Percent_Unemployed'].min()) / (df['properties_Percent_Unemployed'].max() - df['properties_Percent_Unemployed'].min())\n",
    "df['Normalized_Unemployed_Percent'] = df['Normalized_Unemployed_Percent'] * 100\n",
    "\n",
    "\n",
    "# Display the first few rows of the DataFrame to verify\n",
    "print(df.head())"
   ]
  },
  {
   "cell_type": "code",
   "execution_count": 8,
   "metadata": {},
   "outputs": [
    {
     "name": "stdout",
     "output_type": "stream",
     "text": [
      "JSON file has been saved as 'Normalized_Unemployed_Population.json'\n"
     ]
    }
   ],
   "source": [
    "df.to_json('./assets/Normalized_Unemployed_Population.json', orient='records', indent=4)\n",
    "\n",
    "# Confirm that the file has been saved successfully\n",
    "print(\"JSON file has been saved as 'Normalized_Unemployed_Population.json'\")"
   ]
  },
  {
   "cell_type": "code",
   "execution_count": 5,
   "metadata": {},
   "outputs": [
    {
     "name": "stdout",
     "output_type": "stream",
     "text": [
      "Index(['type', 'id', 'geometry_type', 'geometry_coordinates',\n",
      "       'properties_OBJECTID', 'properties_Census_Tract', 'properties_IBL_Rank',\n",
      "       'properties_EHD_Rank', 'properties_Env_SEF_Rank',\n",
      "       'properties_Total_Population', 'properties_Num_Living_in_Poverty',\n",
      "       'properties_Percent_Living_in_Poverty'],\n",
      "      dtype='object')\n"
     ]
    }
   ],
   "source": [
    "with open('./assets/Poverty_Population_Washington.json') as file:\n",
    "    data = json.load(file)\n",
    "\n",
    "# Extract the list of features\n",
    "features = data['features']\n",
    "\n",
    "# Use json_normalize to flatten the nested 'properties' into a DataFrame\n",
    "df = pd.json_normalize(features, sep='_', max_level=1)\n",
    "\n",
    "# Print the columns of the DataFrame to see the structure\n",
    "print(df.columns)"
   ]
  },
  {
   "cell_type": "code",
   "execution_count": 7,
   "metadata": {},
   "outputs": [
    {
     "name": "stdout",
     "output_type": "stream",
     "text": [
      "      type  id geometry_type  \\\n",
      "0  Feature   1       Polygon   \n",
      "1  Feature   2       Polygon   \n",
      "2  Feature   3       Polygon   \n",
      "3  Feature   4       Polygon   \n",
      "4  Feature   5       Polygon   \n",
      "\n",
      "                                geometry_coordinates  properties_OBJECTID  \\\n",
      "0  [[[-122.407697325044, 47.2258904770488], [-122...                    1   \n",
      "1  [[[-122.420943214232, 47.1786642375196], [-122...                    2   \n",
      "2  [[[-122.282534781502, 47.1178639615889], [-122...                    3   \n",
      "3  [[[-122.407697325044, 47.2258904770488], [-122...                    4   \n",
      "4  [[[-122.407676307464, 47.2191904455033], [-122...                    5   \n",
      "\n",
      "  properties_Census_Tract  properties_IBL_Rank  properties_EHD_Rank  \\\n",
      "0             53053062000                 10.0                 10.0   \n",
      "1             53053071601                  9.0                 10.0   \n",
      "2             53053073111                  5.0                  7.0   \n",
      "3             53053940007                  9.0                 10.0   \n",
      "4             53053940006                 10.0                 10.0   \n",
      "\n",
      "   properties_Env_SEF_Rank  properties_Total_Population  \\\n",
      "0                     10.0                       4577.0   \n",
      "1                     10.0                       5160.0   \n",
      "2                      4.0                       4406.0   \n",
      "3                     10.0                       3255.0   \n",
      "4                     10.0                       3421.0   \n",
      "\n",
      "   properties_Num_Living_in_Poverty  properties_Percent_Living_in_Poverty  \\\n",
      "0                            1989.0                                 43.46   \n",
      "1                            2093.0                                 40.56   \n",
      "2                             891.0                                 20.22   \n",
      "3                            1288.0                                 39.57   \n",
      "4                            2121.0                                 62.00   \n",
      "\n",
      "   Normalized_Percent_Living_in_Poverty  \n",
      "0                                 43.46  \n",
      "1                                 40.56  \n",
      "2                                 20.22  \n",
      "3                                 39.57  \n",
      "4                                 62.00  \n"
     ]
    }
   ],
   "source": [
    "# Convert the \"Percent_People_of_Color\" to numeric since it's stored as a string\n",
    "df['properties_Percent_Living_in_Poverty'] = pd.to_numeric(df['properties_Percent_Living_in_Poverty'], errors='coerce')\n",
    "\n",
    "# Normalize the \"Percent_People_of_Color\" column using Min-Max normalization\n",
    "df['Normalized_Percent_Living_in_Poverty'] = (df['properties_Percent_Living_in_Poverty'] - df['properties_Percent_Living_in_Poverty'].min()) / (df['properties_Percent_Living_in_Poverty'].max() - df['properties_Percent_Living_in_Poverty'].min())\n",
    "df['Normalized_Percent_Living_in_Poverty'] = df['Normalized_Percent_Living_in_Poverty'] * 100\n",
    "\n",
    "\n",
    "# Display the first few rows of the DataFrame to verify\n",
    "print(df.head())"
   ]
  },
  {
   "cell_type": "code",
   "execution_count": 8,
   "metadata": {},
   "outputs": [
    {
     "name": "stdout",
     "output_type": "stream",
     "text": [
      "JSON file has been saved as 'Normalized_Poverty_Population_Washington.json'\n"
     ]
    }
   ],
   "source": [
    "df.to_json('./assets/Normalized_Poverty_Population_Washington.json', orient='records', indent=4)\n",
    "\n",
    "# Confirm that the file has been saved successfully\n",
    "print(\"JSON file has been saved as 'Normalized_Poverty_Population_Washington.json'\")"
   ]
  },
  {
   "cell_type": "code",
   "execution_count": 2,
   "metadata": {},
   "outputs": [
    {
     "name": "stdout",
     "output_type": "stream",
     "text": [
      "Index(['type', 'id', 'geometry_type', 'geometry_coordinates',\n",
      "       'properties_OBJECTID', 'properties_Census_Tract', 'properties_IBL_Rank',\n",
      "       'properties_EHD_Rank', 'properties_Env_SEF_Rank',\n",
      "       'properties_Num_Without_Diploma', 'properties_Population_Over24',\n",
      "       'properties_Percent_Without_Diploma', 'properties_Lower_ME',\n",
      "       'properties_Upper_ME'],\n",
      "      dtype='object')\n"
     ]
    }
   ],
   "source": [
    "with open('./assets/No_High_School_Diploma_Washington.json') as file:\n",
    "    data = json.load(file)\n",
    "\n",
    "# Extract the list of features\n",
    "features = data['features']\n",
    " \n",
    "# Use json_normalize to flatten the nested 'properties' into a DataFrame\n",
    "df = pd.json_normalize(features, sep='_', max_level=1)\n",
    "\n",
    "# Print the columns of the DataFrame to see the structure\n",
    "print(df.columns)"
   ]
  },
  {
   "cell_type": "code",
   "execution_count": 5,
   "metadata": {},
   "outputs": [
    {
     "name": "stdout",
     "output_type": "stream",
     "text": [
      "      type  id geometry_type  \\\n",
      "0  Feature   1       Polygon   \n",
      "1  Feature   2       Polygon   \n",
      "2  Feature   3       Polygon   \n",
      "3  Feature   4       Polygon   \n",
      "4  Feature   5       Polygon   \n",
      "\n",
      "                                geometry_coordinates  properties_OBJECTID  \\\n",
      "0  [[[-122.407697325044, 47.2258904770488], [-122...                    1   \n",
      "1  [[[-122.420943214232, 47.1786642375196], [-122...                    2   \n",
      "2  [[[-122.282534781502, 47.1178639615889], [-122...                    3   \n",
      "3  [[[-122.407697325044, 47.2258904770488], [-122...                    4   \n",
      "4  [[[-122.407676307464, 47.2191904455033], [-122...                    5   \n",
      "\n",
      "  properties_Census_Tract  properties_IBL_Rank  properties_EHD_Rank  \\\n",
      "0             53053062000                 10.0                 10.0   \n",
      "1             53053071601                 10.0                 10.0   \n",
      "2             53053073111                  5.0                  7.0   \n",
      "3             53053940007                  9.0                 10.0   \n",
      "4             53053940006                 10.0                 10.0   \n",
      "\n",
      "   properties_Env_SEF_Rank  properties_Num_Without_Diploma  \\\n",
      "0                     10.0                           647.0   \n",
      "1                     10.0                          1001.0   \n",
      "2                      4.0                           189.0   \n",
      "3                     10.0                           317.0   \n",
      "4                     10.0                           365.0   \n",
      "\n",
      "   properties_Population_Over24  properties_Percent_Without_Diploma  \\\n",
      "0                        3023.0                               21.40   \n",
      "1                        3296.0                               30.37   \n",
      "2                        2839.0                                6.66   \n",
      "3                        2028.0                               15.63   \n",
      "4                        1806.0                               20.21   \n",
      "\n",
      "   properties_Lower_ME  properties_Upper_ME  \\\n",
      "0                16.49                26.31   \n",
      "1                23.12                37.62   \n",
      "2                 3.59                 9.72   \n",
      "3                11.04                20.22   \n",
      "4                16.10                24.32   \n",
      "\n",
      "   Normalized_Percent_Without_Diploma  \n",
      "0                           32.628634  \n",
      "1                           46.572361  \n",
      "2                            9.715529  \n",
      "3                           23.659257  \n",
      "4                           30.778797  \n"
     ]
    }
   ],
   "source": [
    "# Convert the \"Percent_People_of_Color\" to numeric since it's stored as a string\n",
    "df['properties_Percent_Without_Diploma'] = pd.to_numeric(df['properties_Percent_Without_Diploma'], errors='coerce')\n",
    "\n",
    "# Normalize the \"Percent_People_of_Color\" column using Min-Max normalization\n",
    "df['Normalized_Percent_Without_Diploma'] = (df['properties_Percent_Without_Diploma'] - df['properties_Percent_Without_Diploma'].min()) / (df['properties_Percent_Without_Diploma'].max() - df['properties_Percent_Without_Diploma'].min())\n",
    "df['Normalized_Percent_Without_Diploma'] = df['Normalized_Percent_Without_Diploma'] * 100\n",
    "\n",
    "\n",
    "# Display the first few rows of the DataFrame to verify\n",
    "print(df.head())"
   ]
  },
  {
   "cell_type": "code",
   "execution_count": 6,
   "metadata": {},
   "outputs": [
    {
     "name": "stdout",
     "output_type": "stream",
     "text": [
      "JSON file has been saved as 'Normalized_No_High_School_Diploma_Washington.json'\n"
     ]
    }
   ],
   "source": [
    "df.to_json('./assets/Normalized_No_High_School_Diploma_Washington.json', orient='records', indent=4)\n",
    "\n",
    "# Confirm that the file has been saved successfully\n",
    "print(\"JSON file has been saved as 'Normalized_No_High_School_Diploma_Washington.json'\")"
   ]
  },
  {
   "cell_type": "code",
   "execution_count": 2,
   "metadata": {},
   "outputs": [
    {
     "name": "stdout",
     "output_type": "stream",
     "text": [
      "Index(['type', 'id', 'geometry_type', 'geometry_coordinates',\n",
      "       'properties_OBJECTID', 'properties_Census_Tract', 'properties_IBL_Rank',\n",
      "       'properties_EHD_Rank', 'properties_Env_SP_Rank', 'properties_Count_',\n",
      "       'properties_Population', 'properties_Percent_Singleton_Live_Births',\n",
      "       'properties_Lower_CI', 'properties_Upper_CI'],\n",
      "      dtype='object')\n"
     ]
    }
   ],
   "source": [
    "with open('./assets/Low_Birth_Weight.json') as file:\n",
    "    data = json.load(file)\n",
    "\n",
    "# Extract the list of features\n",
    "features = data['features']\n",
    " \n",
    "# Use json_normalize to flatten the nested 'properties' into a DataFrame\n",
    "df = pd.json_normalize(features, sep='_', max_level=1)\n",
    "\n",
    "# Print the columns of the DataFrame to see the structure\n",
    "print(df.columns)"
   ]
  },
  {
   "cell_type": "code",
   "execution_count": 3,
   "metadata": {},
   "outputs": [
    {
     "name": "stdout",
     "output_type": "stream",
     "text": [
      "   properties_Percent_Singleton_Live_Births\n",
      "0                                      3.79\n",
      "1                                      1.59\n",
      "2                                       NaN\n",
      "3                                      2.32\n",
      "4                                      2.33\n"
     ]
    }
   ],
   "source": [
    "#Handle \"(NR)\" by removing it from the string\n",
    "df['properties_Percent_Singleton_Live_Births'] = df['properties_Percent_Singleton_Live_Births'].str.replace(r'\\s*\\(NR\\)', '', regex=True)\n",
    "\n",
    "#Replace \"**\" with NaN (indicating missing or confidential data)\n",
    "df['properties_Percent_Singleton_Live_Births'] = df['properties_Percent_Singleton_Live_Births'].replace('**', np.nan)\n",
    "\n",
    "#Convert the column to numeric if the cleaned data is expected to be numeric\n",
    "df['properties_Percent_Singleton_Live_Births'] = pd.to_numeric(df['properties_Percent_Singleton_Live_Births'], errors='coerce')\n",
    "\n",
    "# Display the cleaned data\n",
    "print(df[['properties_Percent_Singleton_Live_Births']].head())"
   ]
  },
  {
   "cell_type": "code",
   "execution_count": 5,
   "metadata": {},
   "outputs": [
    {
     "name": "stdout",
     "output_type": "stream",
     "text": [
      "      type  id geometry_type  \\\n",
      "0  Feature   1       Polygon   \n",
      "1  Feature   2       Polygon   \n",
      "2  Feature   3       Polygon   \n",
      "3  Feature   4       Polygon   \n",
      "4  Feature   5       Polygon   \n",
      "\n",
      "                                geometry_coordinates  properties_OBJECTID  \\\n",
      "0  [[[-122.407676307464, 47.2191904455033], [-122...                    1   \n",
      "1  [[[-122.644709586342, 47.0877419600512], [-122...                    2   \n",
      "2  [[[-122.457150238437, 47.1701871668543], [-122...                    3   \n",
      "3  [[[-122.272361625678, 47.0895547615697], [-122...                    4   \n",
      "4  [[[-122.413510921853, 47.0674807226684], [-122...                    5   \n",
      "\n",
      "  properties_Census_Tract  properties_IBL_Rank  properties_EHD_Rank  \\\n",
      "0             53053940006                 10.0                 10.0   \n",
      "1             53053072800                  4.0                  3.0   \n",
      "2             53053071703                  6.0                  9.0   \n",
      "3             53053073113                  7.0                  7.0   \n",
      "4             53053071411                  7.0                  7.0   \n",
      "\n",
      "   properties_Env_SP_Rank  properties_Count_  properties_Population  \\\n",
      "0                    10.0               10.0                  264.0   \n",
      "1                     2.0               12.0                  756.0   \n",
      "2                     9.0                NaN                  439.0   \n",
      "3                     9.0               11.0                  474.0   \n",
      "4                     9.0               11.0                  473.0   \n",
      "\n",
      "   properties_Percent_Singleton_Live_Births properties_Lower_CI  \\\n",
      "0                                      3.79           1.82 (NR)   \n",
      "1                                      1.59           0.82 (NR)   \n",
      "2                                       NaN                  **   \n",
      "3                                      2.32           1.16 (NR)   \n",
      "4                                      2.33           1.16 (NR)   \n",
      "\n",
      "  properties_Upper_CI  Normalized_Percent_Singleton_Live_Births  \n",
      "0           6.97 (NR)                                 49.284785  \n",
      "1           2.77 (NR)                                 20.676203  \n",
      "2                  **                                       NaN  \n",
      "3           4.15 (NR)                                 30.169051  \n",
      "4           4.16 (NR)                                 30.299090  \n"
     ]
    }
   ],
   "source": [
    "# Convert the \"Percent_People_of_Color\" to numeric since it's stored as a string\n",
    "df['properties_Percent_Singleton_Live_Births'] = pd.to_numeric(df['properties_Percent_Singleton_Live_Births'], errors='coerce')\n",
    "\n",
    "# Normalize the \"Percent_People_of_Color\" column using Min-Max normalization\n",
    "df['Normalized_Percent_Singleton_Live_Births'] = (df['properties_Percent_Singleton_Live_Births'] - df['properties_Percent_Singleton_Live_Births'].min()) / (df['properties_Percent_Singleton_Live_Births'].max() - df['properties_Percent_Singleton_Live_Births'].min())\n",
    "df['Normalized_Percent_Singleton_Live_Births'] = df['Normalized_Percent_Singleton_Live_Births'] * 100\n",
    "\n",
    "# Display the first few rows of the DataFrame to verify\n",
    "print(df.head())"
   ]
  },
  {
   "cell_type": "code",
   "execution_count": 6,
   "metadata": {},
   "outputs": [
    {
     "name": "stdout",
     "output_type": "stream",
     "text": [
      "JSON file has been saved as 'Normalized_Low_Birth_Weight.json'\n"
     ]
    }
   ],
   "source": [
    "df.to_json('./assets/Normalized_Low_Birth_Weight.json', orient='records', indent=4)\n",
    "\n",
    "# Confirm that the file has been saved successfully\n",
    "print(\"JSON file has been saved as 'Normalized_Low_Birth_Weight.json'\")"
   ]
  },
  {
   "cell_type": "code",
   "execution_count": null,
   "metadata": {},
   "outputs": [],
   "source": []
  }
 ],
 "metadata": {
  "kernelspec": {
   "display_name": "venv",
   "language": "python",
   "name": "python3"
  },
  "language_info": {
   "codemirror_mode": {
    "name": "ipython",
    "version": 3
   },
   "file_extension": ".py",
   "mimetype": "text/x-python",
   "name": "python",
   "nbconvert_exporter": "python",
   "pygments_lexer": "ipython3",
   "version": "3.12.5"
  }
 },
 "nbformat": 4,
 "nbformat_minor": 2
}
